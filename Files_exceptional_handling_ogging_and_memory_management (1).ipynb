{
 "cells": [
  {
   "cell_type": "code",
   "execution_count": null,
   "id": "7b8c50f5-9303-4756-995a-db0e649b5586",
   "metadata": {},
   "outputs": [],
   "source": [
    "#1.What is the difference between interpreted and compiled languages.\n",
    "'''\n",
    "The difference between interpreted and compiled languages lies in how the code is processed and executed.\n",
    "\n",
    "Compiled Languages\n",
    "Process: The code is translated into machine code (binary) by a compiler before execution. This machine code is directly executed by the computer's hardware.\n",
    "Execution: Faster execution since the program is already converted into machine code.\n",
    "Error Detection: Errors are identified during the compilation stage, before running the program.\n",
    "Distribution: The compiled machine code (binary) is shared, not the source code.\n",
    "Examples: C, C++.\n",
    "\n",
    "Interpreted Languages\n",
    "Process: The code is executed line by line or statement by statement by an interpreter, which translates the code into machine code on the fly.\n",
    "Execution: Slower execution since translation happens at runtime.\n",
    "Error Detection: Errors are identified during runtime, which can halt the program.\n",
    "Distribution: The source code is often shared, requiring the interpreter to execute it.\n",
    "Examples: Python, Ruby.\n",
    "\n",
    "'''"
   ]
  },
  {
   "cell_type": "code",
   "execution_count": 1,
   "id": "d8686059-8d03-48f5-bec5-6e1741deed04",
   "metadata": {},
   "outputs": [
    {
     "name": "stdin",
     "output_type": "stream",
     "text": [
      "Enter a number:  0\n"
     ]
    },
    {
     "name": "stdout",
     "output_type": "stream",
     "text": [
      "Cannot divide by zero.\n",
      "Execution complete.\n"
     ]
    }
   ],
   "source": [
    "#2. What is exception handling in Python\n",
    "'''\n",
    "Exception handling in Python is a mechanism that allows you to gracefully handle errors that occur during program execution. \n",
    "Instead of crashing the program, you can catch and manage these errors to ensure the program continues running or exits more cleanly.\n",
    "\n",
    "Key Components of Exception Handling\n",
    "try Block\n",
    "Code that might raise an exception is placed here.\n",
    "except Block\n",
    "Code to handle the exception is placed here. You can specify the type of exception to handle.\n",
    "else Block (Optional)\n",
    "Executes if no exceptions occur in the try block.\n",
    "finally Block (Optional)\n",
    "Executes regardless of whether an exception occurred or not (used for cleanup).\n",
    "'''\n",
    "#Basic Syntax\n",
    "try:\n",
    "    # Code that might raise an exception\n",
    "    num = int(input(\"Enter a number: \"))\n",
    "    result = 10 / num\n",
    "    print(\"Result:\", result)\n",
    "except ValueError:\n",
    "    # Handles specific exceptions\n",
    "    print(\"Invalid input! Please enter a number.\")\n",
    "except ZeroDivisionError:\n",
    "    # Handles division by zero\n",
    "    print(\"Cannot divide by zero.\")\n",
    "else:\n",
    "    # Executes if no exceptions occurred\n",
    "    print(\"Operation successful!\")\n",
    "finally:\n",
    "    # Executes regardless of exceptions\n",
    "    print(\"Execution complete.\")\n",
    "\n"
   ]
  },
  {
   "cell_type": "code",
   "execution_count": null,
   "id": "58407295-c06c-41dd-b7ac-15bdbe8dddf6",
   "metadata": {},
   "outputs": [],
   "source": [
    "#3.What is the purpose of the finally block in exception handling.\n",
    "'''\n",
    "The finally block in exception handling is used to execute code that must run regardless of whether an exception occurred or not. \n",
    "It ensures that resources are properly released or cleanup actions are performed, even if an error interrupts the normal flow of the program.\n",
    "'''"
   ]
  },
  {
   "cell_type": "code",
   "execution_count": 2,
   "id": "e040172c-d753-47af-a2f0-5f7ea8ee972d",
   "metadata": {},
   "outputs": [
    {
     "name": "stderr",
     "output_type": "stream",
     "text": [
      "INFO:root:This is an info message\n",
      "WARNING:root:This is a warning message\n",
      "ERROR:root:This is an error message\n"
     ]
    }
   ],
   "source": [
    "#4.What is logging in Python.\n",
    "'''\n",
    "Logging in Python is the process of tracking and recording events that occur during the execution of a program. \n",
    "It is a key tool for developers to debug, monitor, and understand the behavior of an application.\n",
    "\n",
    "Why Use Logging?\n",
    "Error Diagnosis: Helps in identifying and fixing issues in the code.\n",
    "Program Monitoring: Tracks the flow of execution and monitors the state of the application.\n",
    "Audit Trails: Keeps a record of operations for auditing purposes.\n",
    "Better than Print Statements: Provides more control, flexibility, and standardized output compared to print() statements.\n",
    "\n",
    "'''\n",
    "import logging\n",
    "\n",
    "# Configure logging\n",
    "logging.basicConfig(level=logging.INFO)\n",
    "\n",
    "# Log messages\n",
    "logging.info(\"This is an info message\")\n",
    "logging.warning(\"This is a warning message\")\n",
    "logging.error(\"This is an error message\")\n"
   ]
  },
  {
   "cell_type": "code",
   "execution_count": 3,
   "id": "8fc4091f-3e9e-44cd-ba8b-3f3370d06ff5",
   "metadata": {},
   "outputs": [
    {
     "name": "stdout",
     "output_type": "stream",
     "text": [
      "Object Test created.\n",
      "Object Test destroyed.\n"
     ]
    }
   ],
   "source": [
    "#5.What is the significance of the __del__ method in Python.\n",
    "'''\n",
    "Automatic Invocation: Called automatically when the reference count of an object drops to zero, or the program ends.\n",
    "Custom Cleanup: Used to release external resources like files, sockets, or database connections.\n",
    "Rarely Needed: In many cases, Python's garbage collector manages resources automatically, so explicit destructors are often unnecessary.\n",
    "'''\n",
    "class MyClass:\n",
    "    def __init__(self, name):\n",
    "        self.name = name\n",
    "        print(f\"Object {self.name} created.\")\n",
    "\n",
    "    def __del__(self):\n",
    "        print(f\"Object {self.name} destroyed.\")\n",
    "\n",
    "# Example usage\n",
    "obj = MyClass(\"Test\")\n",
    "del obj  # Explicit deletion\n",
    "\n"
   ]
  },
  {
   "cell_type": "code",
   "execution_count": 4,
   "id": "ce99a05c-b89d-457d-906a-ed884f33e216",
   "metadata": {},
   "outputs": [
    {
     "name": "stdout",
     "output_type": "stream",
     "text": [
      "folder\\file.txt\n",
      "2024-12-03 16:43:08.006740\n"
     ]
    }
   ],
   "source": [
    "#6.What is the difference between import and from ... import in Python.\n",
    "'''\n",
    "Use import:\n",
    "\n",
    "When you need multiple components.\n",
    "To maintain clarity and avoid namespace issues.\n",
    "'''\n",
    "import os\n",
    "print(os.path.join(\"folder\", \"file.txt\"))\n",
    "'''\n",
    "Use from ... import:\n",
    "\n",
    "When you need only a few specific components.\n",
    "To simplify the code.\n",
    "'''\n",
    "from datetime import datetime\n",
    "print(datetime.now())\n"
   ]
  },
  {
   "cell_type": "code",
   "execution_count": 6,
   "id": "4894cd61-438d-43ba-ab91-5947e016c871",
   "metadata": {},
   "outputs": [
    {
     "name": "stdout",
     "output_type": "stream",
     "text": [
      "Cannot divide by zero!\n"
     ]
    },
    {
     "name": "stdin",
     "output_type": "stream",
     "text": [
      "Enter a number:  0\n"
     ]
    },
    {
     "name": "stdout",
     "output_type": "stream",
     "text": [
      "Error: division by zero\n"
     ]
    },
    {
     "name": "stdin",
     "output_type": "stream",
     "text": [
      "Enter a number:  0\n"
     ]
    },
    {
     "name": "stdout",
     "output_type": "stream",
     "text": [
      "Error: division by zero\n"
     ]
    }
   ],
   "source": [
    "# 7.How can you handle multiple exceptions in Python.\n",
    "'''\n",
    "One can handle multiple exceptions using multiple except blocks. \n",
    "'''\n",
    "try:\n",
    "    x = 1 / 0  # Division by zero error\n",
    "except ZeroDivisionError:\n",
    "    print(\"Cannot divide by zero!\")\n",
    "except ValueError:\n",
    "    print(\"Invalid value!\")\n",
    "except TypeError:\n",
    "    print(\"Type error occurred!\")\n",
    "\n",
    "'''\n",
    "2. Using a Single except Block with a Tuple\n",
    "You can group multiple exceptions into a tuple and handle them with a single except block.\n",
    "This approach is useful when you want to handle several exceptions the same way.\n",
    "'''\n",
    "try:\n",
    "    # Some code that may raise multiple exceptions\n",
    "    num = int(input(\"Enter a number: \"))\n",
    "    result = 10 / num\n",
    "except (ZeroDivisionError, ValueError) as e:\n",
    "    print(f\"Error: {e}\")\n",
    "\n",
    "'''\n",
    "3. Using else with try-except\n",
    "The else block can be used to execute code that should run if no exceptions were raised.\n",
    "This is useful when you want to run code only when the try block doesn't throw an exception.\n",
    "'''\n",
    "try:\n",
    "    num = int(input(\"Enter a number: \"))\n",
    "    result = 10 / num\n",
    "except (ZeroDivisionError, ValueError) as e:\n",
    "    print(f\"Error: {e}\")\n",
    "else:\n",
    "    print(f\"The result is {result}\")\n"
   ]
  },
  {
   "cell_type": "code",
   "execution_count": 8,
   "id": "846c05c8-f660-4ebf-abe7-2c531d8c5c49",
   "metadata": {},
   "outputs": [],
   "source": [
    "#8.What is the purpose of the with statement when handling files in Python.\n",
    "'''\n",
    "The with statement in Python is used to simplify resource management,\n",
    "particularly when working with files or other resources that need to be explicitly cleaned up after use.\n",
    "It ensures that certain actions are automatically performed when the block of code is exited, even if an error occurs.\n",
    "\n",
    "When handling files, the primary purpose of the with statement is to manage file opening and closing automatically, making your code cleaner, more readable,\n",
    "and less error-prone.\n",
    "'''\n",
    "#syntax\n",
    "with open('file.txt', 'r') as file:\n",
    "    content = file.read()\n",
    "    print(content)\n"
   ]
  },
  {
   "cell_type": "code",
   "execution_count": null,
   "id": "b536d234-03ae-49d4-9a09-240c68dccb07",
   "metadata": {},
   "outputs": [],
   "source": [
    "#9. What is the difference between multithreading and multiprocessing.\n",
    "'''\n",
    "Summary Table\n",
    "Aspect\t           Multithreading\t                         Multiprocessing\n",
    "Memory Usage\t  Shared memory space\t                    Separate memory space for each process\n",
    "CPU Utilization\t  Limited by GIL (one thread at a time)\t    Utilizes multiple CPU cores (no GIL)\n",
    "Best for\t         I/O-bound tasks\t                    CPU-bound tasks\n",
    "Communication\t    Easy (shared memory)\t                More complex (using IPC mechanisms)\n",
    "Fault Isolation\t  Poor(one thread’s failure affects others)\tGood (independent processes)\n",
    "Performance\t      Limited in CPU-bound tasks            \tExcellent in CPU-bound tasks\n",
    "Overhead\t     Lower (lightweight threads)\t            Higher (separate processes)\n",
    "'''\n"
   ]
  },
  {
   "cell_type": "code",
   "execution_count": null,
   "id": "1fbd33bb-e3a3-4f3a-9b17-1ed3900ceb6b",
   "metadata": {},
   "outputs": [],
   "source": [
    "#10.What are the advantages of using logging in a program.\n",
    "'''\n",
    "Error tracking and debugging: Logs help you understand what went wrong and why.\n",
    "Real-time monitoring and auditing: Provides visibility into application behavior and helps with compliance.\n",
    "Cleaner code: Removes print statements and focuses on actual logic.\n",
    "Better scalability: Supports both small and large applications effectively.\n",
    "Performance insights: Helps identify performance bottlenecks.\n",
    "Thread/process safety: Useful for multithreaded or multiprocess applications.\n",
    "Historical analysis: Provides valuable information for post-mortem debugging.\n",
    "Overall, logging is a crucial tool for maintaining robust, production-grade applications and managing complex systems.\n",
    "'''"
   ]
  },
  {
   "cell_type": "code",
   "execution_count": null,
   "id": "850857ee-6fba-4838-a93f-6e71ece9b61b",
   "metadata": {},
   "outputs": [],
   "source": [
    "#11.What is memory management in Python.\n",
    "'''\n",
    "Memory management in Python refers to how Python manages the allocation and deallocation of memory for objects and variables in a program. \n",
    "Python’s memory management system is designed to make memory handling easier for the programmer, ensuring that resources are used efficiently \n",
    "without the programmer needing to manually allocate or free memory.\n",
    "\n",
    "Automatic Allocation: Python handles memory allocation for objects automatically.\n",
    "Reference Counting: Memory is managed using reference counts, and objects are deallocated when their reference count reaches zero.\n",
    "Garbage Collection: Python's garbage collector handles memory deallocation for objects with cyclic references.\n",
    "Memory Pooling: Small objects are managed in pools to reduce allocation overhead.\n",
    "Efficient Memory Usage: Techniques like weak references and object caching help optimize memory usage.\n",
    "Memory Leaks: While Python handles most memory management, issues like memory leaks can still arise and need to be monitored.\n",
    "'''"
   ]
  },
  {
   "cell_type": "code",
   "execution_count": 1,
   "id": "1f5ce277-19dc-45e9-9f9f-64a93dc02e1e",
   "metadata": {},
   "outputs": [
    {
     "name": "stdin",
     "output_type": "stream",
     "text": [
      "Enter a number:  0\n"
     ]
    },
    {
     "name": "stdout",
     "output_type": "stream",
     "text": [
      "Cannot divide by zero.\n",
      "Execution complete.\n"
     ]
    }
   ],
   "source": [
    "#12.What are the basic steps involved in exception handling in Python.\n",
    "'''\n",
    "Exception handling in Python allows you to manage errors gracefully and ensure that your program can handle unexpected situations without crashing. Here are the basic steps involved in exception handling:\n",
    "\n",
    "1. Identify Code That Might Raise Exceptions\n",
    "Determine which parts of your code might lead to errors, such as file operations, network requests, or calculations.\n",
    "2. Use try Block\n",
    "Enclose the code that might raise an exception in a try block.\n",
    "3. Handle Exceptions with except Block\n",
    "Add one or more except blocks to handle specific exceptions or a general exception.\n",
    "4. Optionally Use else Block\n",
    "Add an else block to execute code that should run if no exception occurs in the try block.\n",
    "5. Use finally Block\n",
    "Add a finally block to execute code that must run regardless of whether an exception occurred or not, such as closing a file or releasing resources.\n",
    "6. Raise Exceptions (Optional)\n",
    "Use the raise keyword to throw exceptions manually when necessary.\n",
    "7. Use Built-in Exception Hierarchy\n",
    "Python provides a hierarchy of built-in exceptions that you can use to catch specific errors. Examples include:\n",
    "ValueError\n",
    "TypeError\n",
    "KeyError\n",
    "'''\n",
    "try:\n",
    "    num = int(input(\"Enter a number: \"))\n",
    "    result = 100 / num\n",
    "except ZeroDivisionError:\n",
    "    print(\"Cannot divide by zero.\")\n",
    "except ValueError:\n",
    "    print(\"Invalid input, please enter a number.\")\n",
    "else:\n",
    "    print(\"The result is\", result)\n",
    "finally:\n",
    "    print(\"Execution complete.\")\n",
    "\n"
   ]
  },
  {
   "cell_type": "code",
   "execution_count": null,
   "id": "0d525d63-8bd9-4ea3-a4e1-9209dadaccb7",
   "metadata": {},
   "outputs": [],
   "source": [
    "#13.Why is memory management important in Python.\n",
    "'''\n",
    "Memory management is a critical aspect of Python (and programming in general) because it ensures efficient use of resources and prevents problems like\n",
    "memory leaks, application crashes, and performance degradation. Here's why it is important in Python:\n",
    "\n",
    "1. Efficient Resource Utilization\n",
    "Why: Memory is a finite resource. Proper management ensures that programs do not use more memory than necessary.\n",
    "How Python Helps: Python uses automatic memory management via reference counting and a garbage collector, which helps reclaim memory occupied by \n",
    "unused objects.\n",
    "2. Preventing Memory Leaks\n",
    "Why: Memory leaks occur when objects that are no longer needed are not released, leading to gradual memory consumption and eventual application failure.\n",
    "How Python Helps: Python's garbage collection mechanism automatically identifies and removes unused objects, reducing the risk of leaks.\n",
    "3. Ensuring Program Stability\n",
    "Why: Poor memory management can cause crashes or unresponsive programs.\n",
    "How Python Helps: Python abstracts complex memory management details, reducing the likelihood of programmer errors.\n",
    "4. Handling Large Data Efficiently\n",
    "Why: Programs processing large datasets (e.g., in data analytics or machine learning) need to manage memory carefully to avoid excessive consumption.\n",
    "How Python Helps: Features like generators and iterators allow for memory-efficient data processing by handling one item at a time instead of loading \n",
    "everything into memory.\n",
    "5. Improving Performance\n",
    "Why: Efficient memory management minimizes overhead, leading to faster program execution.\n",
    "How Python Helps: By reusing memory and deallocating unused objects, Python's memory manager optimizes resource use.\n",
    "6. Simplifying Programming\n",
    "Why: Manual memory management (as in some other languages like C/C++) can be error-prone and complex.\n",
    "How Python Helps: Python automates most memory management tasks, allowing developers to focus on writing functional code instead of dealing with \n",
    "low-level details.\n",
    "7. Avoiding Circular References\n",
    "Why: Circular references (e.g., two objects referencing each other) can prevent memory from being released.\n",
    "How Python Helps: Python's garbage collector can detect and clean up circular references, although developers should design their code to minimize \n",
    "such occurrences.\n",
    "8. Dynamic Memory Allocation\n",
    "Why: Modern applications often require dynamic memory allocation for variable-sized data.\n",
    "How Python Helps: Python supports dynamic memory allocation for objects, arrays, and structures, adapting to the program's needs in real-time.\n",
    "'''"
   ]
  },
  {
   "cell_type": "code",
   "execution_count": null,
   "id": "12d03f63-aae2-40a5-b138-6ce8d676f03a",
   "metadata": {},
   "outputs": [],
   "source": [
    "#14.What is the role of try and except in exception handling.\n",
    "'''\n",
    "Role of except: Handling Exceptions\n",
    "Purpose:\n",
    "\n",
    "The except block defines how to handle specific exceptions raised in the try block.\n",
    "It prevents the program from crashing by catching errors and executing an alternative response.\n",
    "How It Works:\n",
    "\n",
    "When an exception occurs in the try block, Python checks the except blocks in sequence.\n",
    "If it finds an except block that matches the exception type, it executes that block.\n",
    "If no matching except block is found, the program terminates with an error.\n",
    "\n",
    "Key Features of try and except:\n",
    "Multiple except Blocks:\n",
    "Handle different exception types separately.\n",
    "General Exception Handling:\n",
    "Use a generic except to catch any exception not explicitly handled.\n",
    "Optional Else Block:\n",
    "Executes if no exceptions occur in the try block.\n",
    "Chaining with finally:\n",
    "Execute cleanup actions regardless of whether an exception occurred or not.\n",
    "Summary:\n",
    "try: Defines the code to \"try\" that might raise exceptions.\n",
    "except: Handles exceptions raised during the execution of the try block.\n",
    "'''"
   ]
  },
  {
   "cell_type": "code",
   "execution_count": null,
   "id": "360e30ca-1f36-491e-95e6-e51679013ef1",
   "metadata": {},
   "outputs": [],
   "source": [
    "#15.How does Python's garbage collection system work.\n",
    "'''\n",
    "1. Reference Counting:\n",
    "Python tracks the number of references to each object in memory.\n",
    "When an object's reference count drops to zero (i.e., no references remain), it is immediately deallocated.\n",
    "Example:\n",
    "x = [1, 2, 3]\n",
    "y = x        # Reference count = 2\n",
    "del x        # Reference count = 1\n",
    "del y        # Reference count = 0 (object removed)\n",
    "2. Handling Circular References:\n",
    "Circular references (e.g., two objects referencing each other) are not resolved by reference counting alone.\n",
    "Python includes a garbage collector (via the gc module) to detect and clean up circular references.\n",
    "3. Generational Garbage Collection:\n",
    "Objects are categorized into three generations based on their lifespan:\n",
    "Generation 0 (young): Checked most often.\n",
    "Generation 1 and 2 (older): Checked less frequently.\n",
    "Short-lived objects are removed quickly, while long-lived objects are checked less often for efficiency.\n",
    "4. Automatic and Manual Control:\n",
    "Garbage collection happens automatically but can also be controlled using the gc module, allowing developers to enable, disable, or \n",
    "force garbage collection manually.\n",
    "'''\n"
   ]
  },
  {
   "cell_type": "code",
   "execution_count": null,
   "id": "b1e3bee3-97ac-46e1-a4f9-cbf8318a140e",
   "metadata": {},
   "outputs": [],
   "source": [
    "#16.What is the purpose of the else block in exception handling\n",
    "'''\n",
    "The else block in exception handling serves to execute code that should run only if the try block completes successfully without raising any exceptions. It helps separate the \"successful path\" of execution from error-handling code in the except block, improving code clarity.\n",
    "\n",
    "Purpose of the else Block\n",
    "Separation of Logic:\n",
    "\n",
    "Keeps code that runs when no exceptions occur distinct from error-handling code.\n",
    "Improves readability by clearly showing the intent of different blocks.\n",
    "Ensuring Controlled Execution:\n",
    "\n",
    "Runs only when the try block is successful, avoiding unnecessary execution during exceptions.\n",
    "'''"
   ]
  },
  {
   "cell_type": "code",
   "execution_count": null,
   "id": "8663b58a-e9c9-4d44-b0e2-dab43ceff4f0",
   "metadata": {},
   "outputs": [],
   "source": [
    "#17.What are the common logging levels in Python.\n",
    "'''\n",
    "In Python, the logging module provides several standard logging levels to categorize the importance and severity of log messages. These levels help developers monitor the behavior of applications and troubleshoot issues effectively. Below are the common logging levels in Python:\n",
    "\n",
    "1. DEBUG (Level: 10)\n",
    "Purpose: Detailed information, typically useful only for diagnosing problems.\n",
    "When to Use: During development to track detailed flow and state.\n",
    "Example:\n",
    "logging.debug(\"Variable x has a value of %d\", x)\n",
    "2. INFO (Level: 20)\n",
    "Purpose: General information about the normal operation of the program.\n",
    "When to Use: To log general messages that confirm the program is working as expected.\n",
    "Example:\n",
    "logging.info(\"Application started successfully.\")\n",
    "3. WARNING (Level: 30)\n",
    "Purpose: Indicates a potential issue or something unexpected but doesn't prevent the program from running.\n",
    "When to Use: To highlight events that might require attention but aren't errors.\n",
    "Example:\n",
    "logging.warning(\"Low disk space warning.\")\n",
    "4. ERROR (Level: 40)\n",
    "Purpose: A serious issue that prevents a part of the program from functioning.\n",
    "When to Use: To log errors that need to be fixed for proper functionality.\n",
    "Example:\n",
    "logging.error(\"File not found: config.yaml\")\n",
    "5. CRITICAL (Level: 50)\n",
    "Purpose: A severe error indicating the program may not be able to continue running.\n",
    "When to Use: For fatal errors or significant failures requiring immediate attention.\n",
    "Example:\n",
    "logging.critical(\"Database connection failed! Shutting down application.\")\n",
    "Logging Levels Hierarchy:\n",
    "DEBUG < INFO < WARNING < ERROR < CRITICAL\n",
    "Logs set at a certain level will include messages of that level and higher.\n",
    "'''\n"
   ]
  },
  {
   "cell_type": "code",
   "execution_count": null,
   "id": "d20923ad-1dcc-40dc-9dce-a5ea2c72cd6f",
   "metadata": {},
   "outputs": [],
   "source": [
    "#18.What is the difference between os.fork() and multiprocessing in Python.\n",
    "'''\n",
    "Key Differences:\n",
    "Feature\t              os.fork()\t                                        multiprocessing\n",
    "Platform Support    Unix-like systems only\t                  Cross-platform (Unix & Windows)\n",
    "Abstraction Level\tLow-level system call\t                  High-level Python interface\n",
    "Memory Model\t   Shared memory with copy-on-write\t          Separate memory for each process\n",
    "Ease of Use\t       Requires manual process management         Simplifies process management\n",
    "Inter-Process \t   Requires manual setup                       Built-in tools like Queue and Pipe\n",
    "Communication\n",
    "Error Handling\tMinimal support\tMore robust handling with Pythonic tools\n",
    "'''"
   ]
  },
  {
   "cell_type": "code",
   "execution_count": null,
   "id": "68b834e9-602c-4971-9c68-7c2cf8835f57",
   "metadata": {},
   "outputs": [],
   "source": [
    "#19.What is the importance of closing a file in Python.\n",
    "'''\n",
    "Closing a file in Python is a crucial part of file handling as it ensures proper resource management and data integrity. Below are the key reasons for its importance:\n",
    "\n",
    "1. Resource Management\n",
    "Releasing System Resources: Files consume system resources such as memory and file descriptors. Closing the file releases these resources back to the operating system.\n",
    "Avoiding Resource Leaks: Keeping a file open unnecessarily can lead to resource exhaustion, especially in applications that open multiple files.\n",
    "2. Data Integrity\n",
    "Ensuring Data is Written: When writing to a file, data may be buffered (temporarily stored in memory). Closing the file ensures the buffer is flushed, and all data is written to the file.\n",
    "Preventing Corruption: Not closing a file properly can result in incomplete writes or file corruption.\n",
    "3. Avoiding Errors\n",
    "Access Issues: Files left open can prevent other programs or parts of the code from accessing them, leading to \"file in use\" errors.\n",
    "Unexpected Behavior: Open files can cause issues such as memory leaks, locked files, or program crashes.\n",
    "4. Good Practice\n",
    "Closing files is a good programming habit that leads to clean, maintainable, and robust code.\n",
    "Using a with statement (context manager) ensures the file is automatically closed, even if an error occurs.\n",
    "\n",
    "'''"
   ]
  },
  {
   "cell_type": "code",
   "execution_count": null,
   "id": "148c07da-38c3-4a24-9a2a-c8b549016c84",
   "metadata": {},
   "outputs": [],
   "source": [
    "#20.What is the difference between file.read() and file.readline() in Python.\n",
    "'''\n",
    "1. file.read()\n",
    "Purpose: Reads the entire content of the file (or a specified number of characters).\n",
    "\n",
    "How It Works:\n",
    "\n",
    "If no argument is provided, it reads the entire file content.\n",
    "If an argument n is provided, it reads up to n characters.\n",
    "Use Case: Suitable for reading the whole file or a large chunk of data at once.\n",
    "\n",
    "Example:\n",
    "\n",
    "with open(\"example.txt\", \"r\") as file:\n",
    "    content = file.read()  # Reads the entire file content.\n",
    "    print(content)\n",
    "\n",
    "with open(\"example.txt\", \"r\") as file:\n",
    "    partial_content = file.read(10)  # Reads the first 10 characters.\n",
    "    print(partial_content)\n",
    "2. file.readline()\n",
    "Purpose: Reads one line at a time from the file.\n",
    "\n",
    "How It Works:\n",
    "\n",
    "Reads from the current position of the file pointer until it encounters a newline character (\\n) or the end of the file.\n",
    "Includes the newline character in the returned string unless it's the last line.\n",
    "Use Case: Ideal for processing large files line by line (e.g., reading logs or CSV files).\n",
    "\n",
    "Example:\n",
    "with open(\"example.txt\", \"r\") as file:\n",
    "    line = file.readline()  # Reads the first line.\n",
    "    print(line)\n",
    "'''"
   ]
  },
  {
   "cell_type": "code",
   "execution_count": null,
   "id": "45e8ec7d-ea8d-45ed-b011-a8d5af7f62c3",
   "metadata": {},
   "outputs": [],
   "source": [
    "#21.What is the logging module in Python used for.\n",
    "'''\n",
    "The logging module in Python is used to record and manage log messages generated by a program. \n",
    "It provides a flexible framework for tracking events, debugging, and keeping records of application behavior. \n",
    "Logs can be written to different outputs, including the console, files, or external systems, and can be classified by severity levels.\n",
    "Key Features of the logging Module:\n",
    "Log Levels: The logging module supports different log levels to indicate the severity of the events being logged. These levels allow developers to filter log messages based on importance.\n",
    "\n",
    "DEBUG: Detailed information, useful for diagnosing problems.\n",
    "INFO: General information about the execution flow.\n",
    "WARNING: An indication of something unexpected or a potential issue.\n",
    "ERROR: A more serious problem that might affect the functionality of the program.\n",
    "CRITICAL: A very serious error that might cause the program to terminate.\n",
    "Loggers, Handlers, and Formatters:\n",
    "\n",
    "Logger: Captures log messages generated in the program.\n",
    "Handler: Defines where the log messages will go (e.g., to the console, a file, or a remote system).\n",
    "Formatter: Specifies the format of the log messages (e.g., date, time, severity level, and message).\n",
    "Flexibility: The module allows developers to configure multiple loggers with different levels and handlers, making it easier to manage logs for different parts of the application.\n",
    "\n",
    "Configuration: It supports both basic configuration for simple use cases and advanced configuration via a configuration file for more complex scenarios.\n",
    "\n",
    "Common Use Cases:\n",
    "Debugging: Helps track the flow of the program, especially during development or troubleshooting.\n",
    "Error Reporting: Logs errors with detailed information, helping developers understand what went wrong.\n",
    "Monitoring: Used to log operational data, such as system health or performance metrics.\n",
    "Auditing: Keeps records of actions performed within the system, such as user logins or changes to critical data.\n",
    "\n",
    "'''"
   ]
  },
  {
   "cell_type": "code",
   "execution_count": 12,
   "id": "df6cd44a-deee-414e-b9a5-0f9e8d7e9911",
   "metadata": {},
   "outputs": [
    {
     "name": "stdout",
     "output_type": "stream",
     "text": [
      "Files and directories: ['.ipynb_checkpoints', '.ipython', '.jupyter', '.~Assignments', '3D Objects', 'AppData', 'Application Data', 'Assignments', 'Ayush', 'Contacts', 'Cookies', 'Data_Structures_in_Python.ipynb', 'Desktop', 'Documents', 'Downloads', 'Favorites', 'Files_exceptional_handling_ogging_and_memory_management.ipynb', 'IntelGraphicsProfiles', 'Links', 'Local Settings', 'Music', 'My Documents', 'NetHood', 'new_folder', 'NTUSER.DAT', 'ntuser.dat.LOG1', 'ntuser.dat.LOG2', 'NTUSER.DAT{53b39e88-18c4-11ea-a811-000d3aa4692b}.TM.blf', 'NTUSER.DAT{53b39e88-18c4-11ea-a811-000d3aa4692b}.TMContainer00000000000000000001.regtrans-ms', 'NTUSER.DAT{53b39e88-18c4-11ea-a811-000d3aa4692b}.TMContainer00000000000000000002.regtrans-ms', 'ntuser.ini', 'OneDrive', 'OOPS.ipynb', 'Open', 'Pictures', 'PrintHood', 'program.log', 'Recent', 'Saved Games', 'Searches', 'SendTo', 'Start Menu', 'Student', 'teacher', 'Templates', 'Untitled.ipynb', 'untitled.py', 'Untitled1.ipynb', 'Untitled2.ipynb', 'Untitled3.ipynb', 'Untitled4.ipynb', 'Untitled5.ipynb', 'Untitled6.ipynb', 'Untitled7.ipynb', 'Videos']\n",
      "Directory removed.\n"
     ]
    }
   ],
   "source": [
    "#22. What is the os module in Python used for in file handling.\n",
    "'''Key Functions of the os Module in File Handling:\n",
    "Managing Directories:\n",
    "\n",
    "os.mkdir(): Creates a new directory.\n",
    "Example: os.mkdir('new_folder')\n",
    "os.makedirs(): Creates intermediate directories if they do not exist.\n",
    "Example: os.makedirs('folder/subfolder')\n",
    "os.rmdir(): Removes an empty directory.\n",
    "Example: os.rmdir('empty_folder')\n",
    "os.removedirs(): Removes intermediate directories if they are empty.\n",
    "Example: os.removedirs('folder/subfolder')\n",
    "File and Directory Manipulation:\n",
    "\n",
    "os.rename(): Renames a file or directory.\n",
    "Example: os.rename('old_name.txt', 'new_name.txt')\n",
    "os.remove(): Removes a file.\n",
    "Example: os.remove('file.txt')\n",
    "os.remove(): Deletes a file.\n",
    "Example: os.remove('example.txt')\n",
    "Path Manipulation (through os.path):\n",
    "\n",
    "os.path.join(): Joins multiple parts of a file path intelligently (handling different operating system formats).\n",
    "Example: os.path.join('folder', 'file.txt')\n",
    "os.path.exists(): Checks if a file or directory exists.\n",
    "Example: os.path.exists('file.txt')\n",
    "os.path.abspath(): Returns the absolute path of a given relative path.\n",
    "Example: os.path.abspath('file.txt')\n",
    "os.path.isdir(): Checks if a given path is a directory.\n",
    "Example: os.path.isdir('folder')\n",
    "os.path.isfile(): Checks if a given path is a file.\n",
    "Example: os.path.isfile('file.txt')\n",
    "File System Information:\n",
    "\n",
    "os.stat(): Retrieves information about a file or directory, such as size, last modification time, and permissions.\n",
    "Example: os.stat('file.txt')\n",
    "Working with Current Directory:\n",
    "\n",
    "os.getcwd(): Returns the current working directory.\n",
    "Example: os.getcwd()\n",
    "os.chdir(): Changes the current working directory.\n",
    "Example: os.chdir('new_folder')\n",
    "Listing Directory Contents:\n",
    "\n",
    "os.listdir(): Returns a list of files and directories in the specified directory.\n",
    "Example: os.listdir('.') (lists files in the current directory)\n",
    "Environment Variables:\n",
    "\n",
    "os.getenv(): Retrieves the value of an environment variable.\n",
    "Example: os.getenv('HOME')\n",
    "os.putenv(): Sets the value of an environment variable.\n",
    "Example: os.putenv('MY_ENV_VAR', 'value')\n",
    "Working with File Descriptors:\n",
    "\n",
    "os.open(): Opens a file and returns a file descriptor for low-level file operations.\n",
    "os.close(): Closes an open file descriptor.\n",
    "Example Usage:\n",
    "Here’s a simple example demonstrating the use of os module for file and directory handling:\n",
    "\n",
    "'''\n",
    "import os\n",
    "\n",
    "# Create a new directory\n",
    "os.mkdir('new_folder')\n",
    "\n",
    "# List the contents of the current directory\n",
    "print(\"Files and directories:\", os.listdir('.'))\n",
    "\n",
    "# Rename a file\n",
    "if os.path.exists('old_name.txt'):\n",
    "    os.rename('old_name.txt', 'new_name.txt')\n",
    "    print(\"File renamed.\")\n",
    "\n",
    "# Remove a file\n",
    "if os.path.exists('new_name.txt'):\n",
    "    os.remove('new_name.txt')\n",
    "    print(\"File removed.\")\n",
    "\n",
    "# Remove the directory\n",
    "os.rmdir('new_folder')\n",
    "print(\"Directory removed.\")\n",
    "\n"
   ]
  },
  {
   "cell_type": "code",
   "execution_count": null,
   "id": "64cffd10-2fef-4a75-8e73-3335bd8379f0",
   "metadata": {},
   "outputs": [],
   "source": [
    "#23.What are the challenges associated with memory management in Python.\n",
    "'''\n",
    "Memory management in Python can present several challenges, which can impact performance, memory usage, \n",
    "and the behavior of programs. Some of the key challenges associated with memory management in Python are:\n",
    "\n",
    "1. Automatic Garbage Collection:\n",
    "Challenge: Python uses automatic garbage collection (GC) to manage memory, but it doesn't guarantee immediate cleanup of unused objects. \n",
    "This can lead to delayed memory deallocation.\n",
    "Impact: Unused objects may stay in memory longer than expected, consuming resources and potentially leading to memory bloat.\n",
    "2. Memory Leaks:\n",
    "Challenge: Although Python has a garbage collector, memory leaks can still occur, especially if objects are unintentionally referenced,\n",
    "preventing the garbage collector from reclaiming memory.\n",
    "Impact: Over time, this can lead to increased memory usage and eventually cause the application to crash or slow down.\n",
    "3. Circular References:\n",
    "Challenge: Circular references happen when objects reference each other in a cycle, which can confuse the garbage collector. Python’s garbage\n",
    "collection system can handle most circular references, but not all situations.\n",
    "Impact: Improper handling of circular references can prevent memory from being freed, leading to memory leaks.\n",
    "4. Overhead of Reference Counting:\n",
    "Challenge: Python uses reference counting as part of its memory management strategy. Every object in Python has a reference count, and memory \n",
    "is deallocated when the reference count drops to zero. However, maintaining this reference count incurs overhead.\n",
    "Impact: The overhead of managing reference counts can slow down performance, especially in programs that involve frequent object creation and deletion.\n",
    "5. Large Memory Consumption with Large Data Structures:\n",
    "Challenge: Python's dynamic typing and high-level abstractions can lead to larger-than-expected memory usage, especially with large data structures\n",
    "such as lists, dictionaries, and custom objects.\n",
    "Impact: Memory consumption can grow significantly, leading to slower execution and possibly crashing applications due to out-of-memory errors, \n",
    "especially in memory-intensive operations.\n",
    "6. Memory Fragmentation:\n",
    "Challenge: In long-running applications, memory fragmentation can occur due to the allocation and deallocation of objects. Small chunks of memory that\n",
    "are freed may not be reused efficiently.\n",
    "Impact: This can lead to inefficient memory usage and increased memory overhead over time.\n",
    "7. Limited Control over Memory Allocation:\n",
    "Challenge: Python’s memory management is abstracted from the user, which means developers have limited control over how memory is allocated and freed.\n",
    "Impact: In some scenarios, this can result in less efficient memory usage compared to languages that allow more direct control over memory, such as C \n",
    "or C++.\n",
    "8. Global Interpreter Lock (GIL) and Memory Management:\n",
    "Challenge: The Global Interpreter Lock (GIL) in Python prevents multiple threads from executing Python bytecode simultaneously. While this simplifies \n",
    "memory management and prevents concurrency issues, it can also limit parallel processing, affecting memory utilization in multi-core systems.\n",
    "Impact: This can lead to inefficient use of memory in multi-threaded applications that require concurrent processing.\n",
    "9. Overhead of Memory Allocation in Object Creation:\n",
    "Challenge: The creation of Python objects, especially custom objects, involves overhead due to dynamic memory allocation and maintaining additional \n",
    "metadata for each object (e.g., type information, reference count).\n",
    "Impact: This overhead can lead to higher memory usage compared to other languages that have more direct control over memory.\n",
    "Ways to Mitigate These Challenges:\n",
    "Use gc module: Python provides the gc module for managing the garbage collector. You can manually tune garbage collection to improve memory management \n",
    "or force garbage collection to run at specific points in time.\n",
    "Memory profiling: Tools like memory_profiler and tracemalloc can help monitor memory usage and identify areas where memory can be optimized.\n",
    "Efficient data structures: Using more memory-efficient data structures (e.g., array instead of list, set for membership tests) can help reduce memoryusage.\n",
    "Use weak references: The weakref module allows you to reference objects without increasing their reference count, which can help manage memory\n",
    "more efficiently, especially when working with circular references.\n",
    "'''"
   ]
  },
  {
   "cell_type": "code",
   "execution_count": null,
   "id": "8d5c0b37-8eba-46b8-bf27-0e08e120ecd3",
   "metadata": {},
   "outputs": [],
   "source": [
    "#24.How do you raise an exception manually in Python.\n",
    "'''\n",
    "In Python, you can raise an exception manually using the raise keyword. This allows you to trigger an exception in your code intentionally, which can be useful for error handling, debugging, or validating certain conditions.\n",
    "\n",
    "Syntax for Raising an Exception:\n",
    "'''\n",
    "raise Exception(\"This is an error message\")\n",
    "'''\n",
    "Example: Raising a Built-in Exception\n",
    "You can raise a specific built-in exception, such as ValueError, TypeError, etc.\n",
    "'''\n",
    "raise ValueError(\"Invalid value encountered\")\n",
    "\n",
    "'''\n",
    "Example: Raising a Custom Exception\n",
    "You can also define your own custom exceptions by subclassing the built-in Exception class.\n",
    "'''\n",
    "class CustomError(Exception):\n",
    "    pass\n",
    "\n",
    "raise CustomError(\"This is a custom exception\")\n",
    "'''\n",
    "Example: Using raise with Conditionals\n",
    "You can raise an exception when a certain condition is met. For example, if a user enters an invalid value:\n",
    "'''\n",
    "\n",
    "age = -5\n",
    "if age < 0:\n",
    "    raise ValueError(\"Age cannot be negative\")\n",
    "\n",
    "'''\n",
    "Explanation:\n",
    "raise keyword: The raise keyword is used to trigger an exception.\n",
    "Exception Type: You can specify the type of exception (e.g., ValueError, TypeError, or a custom exception).\n",
    "Error Message: Optionally, you can pass a message to the exception, which will describe the error.\n",
    "'''"
   ]
  },
  {
   "cell_type": "code",
   "execution_count": null,
   "id": "5bd9abea-e315-4993-a971-f6a951f729c8",
   "metadata": {},
   "outputs": [],
   "source": [
    "#25. Why is it important to use multithreading in certain applications?\n",
    "\n",
    "'''\n",
    "Multithreading is important in certain applications because it allows programs to perform multiple tasks concurrently,\n",
    "improving efficiency, responsiveness, and performance. Here are several key reasons why multithreading is useful:\n",
    "\n",
    "1. Improved Performance with Concurrent Tasks\n",
    "Benefit: Multithreading allows multiple threads to execute simultaneously, enabling a program to handle multiple tasks at once. \n",
    "This can be especially beneficial in programs that require long-running tasks like data processing, file I/O, or network requests.\n",
    "Example: In a web server, each request can be handled by a separate thread, allowing the server to process multiple requests concurrently, \n",
    "leading to faster response times.\n",
    "2. Better Utilization of CPU Cores\n",
    "Benefit: Multithreading can improve CPU utilization, especially in multi-core processors. By dividing the work among multiple threads,\n",
    "the program can take advantage of all available CPU cores, leading to more efficient execution.\n",
    "Example: If a program needs to perform CPU-bound computations (e.g., image processing), multithreading allows these computations to be \n",
    "split across multiple cores, speeding up the process.\n",
    "3. Improved Responsiveness\n",
    "Benefit: In applications with a user interface (UI), multithreading helps maintain a responsive UI by offloading time-consuming tasks to\n",
    "background threads. This allows the UI to stay responsive to user inputs, like clicks or keystrokes.\n",
    "Example: In a desktop application, multithreading can be used to load data from a file in the background while keeping the UI available \n",
    "for user interaction.\n",
    "4. Handling I/O-Bound Tasks Efficiently\n",
    "Benefit: Multithreading is particularly useful for I/O-bound tasks (e.g., reading files, network communication) that spend a lot of \n",
    "time waiting for external resources. \n",
    "By using multiple threads, a program can continue working on other tasks while waiting for I/O operations to complete.\n",
    "Example: In a web crawler, multiple threads can fetch different web pages concurrently, reducing the overall time needed to download a \n",
    "large number of pages.\n",
    "5. Simplified Program Design for Parallel Tasks\n",
    "Benefit: Multithreading allows complex tasks to be broken down into smaller parallel subtasks. This makes it easier to design \n",
    "and structure programs that handle multiple tasks simultaneously, rather than relying on complex callback mechanisms or processes.\n",
    "Example: In scientific simulations, multithreading can be used to perform independent computations in parallel, speeding up the overall simulation.\n",
    "6. Concurrency Without the Need for Separate Processes\n",
    "Benefit: Multithreading allows multiple tasks to run concurrently within a single process, which is more lightweight compared to running \n",
    "separate processes. This reduces the overhead associated with process management and inter-process communication.\n",
    "Example: In a game, multithreading can be used to handle physics calculations, rendering, and user input in parallel, all within the same process.\n",
    "7. Scalability in Large Applications\n",
    "Benefit: Multithreading makes it easier to scale applications as they grow. By distributing the workload across multiple threads, the application \n",
    "can handle more tasks without major architectural changes.\n",
    "Example: In cloud-based applications, multithreading allows efficient scaling as more requests come in, ensuring that the system can handle a large\n",
    "number of concurrent users.\n",
    "Challenges to Consider:\n",
    "Thread Synchronization: When multiple threads share data, proper synchronization mechanisms (e.g., locks, semaphores) are needed to avoid data \n",
    "corruption and race conditions.\n",
    "Context Switching Overhead: Creating and managing threads comes with some overhead, as the operating system must switch between threads, which can \n",
    "reduce the performance gains.\n",
    "Python’s Global Interpreter Lock (GIL): In Python, the GIL restricts true parallelism for CPU-bound tasks in multi-threaded programs. However,\n",
    "it can still be beneficial for I/O-bound tasks.\n",
    "'''"
   ]
  },
  {
   "cell_type": "code",
   "execution_count": null,
   "id": "c3f6c9be-da61-4f65-a448-566325e2b99f",
   "metadata": {},
   "outputs": [],
   "source": [
    "''' Practical questions begins'''"
   ]
  },
  {
   "cell_type": "code",
   "execution_count": 1,
   "id": "9ae57af0-0522-45cd-a8d9-419e941395ff",
   "metadata": {},
   "outputs": [],
   "source": [
    "#1. How can you open a file for writing in Python and write a string to it.\n",
    "\n",
    "# Open a file for writing (it will create the file if it doesn't exist)\n",
    "with open('Ayush.txt', 'w') as file:\n",
    "    # Write a string to the file\n",
    "    file.write(\"Hello, Evaluator My Name is Ayush\")\n",
    "\n",
    "# The file is automatically closed after the block ends\n",
    "\n"
   ]
  },
  {
   "cell_type": "code",
   "execution_count": 14,
   "id": "9ab79bb8-a080-4391-94ed-405b2a16e190",
   "metadata": {},
   "outputs": [
    {
     "name": "stdout",
     "output_type": "stream",
     "text": [
      "Hello, Evaluator My Name is Ayush"
     ]
    }
   ],
   "source": [
    "#2.Write a Python program to read the contents of a file and print each line.\n",
    "# Open the file in read mode\n",
    "with open('Ayush.txt', 'r') as file:\n",
    "    # Loop through each line in the file\n",
    "    for line in file:\n",
    "        # Print each line\n",
    "        print(line, end='')  # 'end=\"\"' avoids adding extra newline\n",
    "\n",
    "\n"
   ]
  },
  {
   "cell_type": "code",
   "execution_count": 15,
   "id": "77f4bb79-1984-45aa-92c1-56a1ada590d6",
   "metadata": {},
   "outputs": [
    {
     "name": "stdout",
     "output_type": "stream",
     "text": [
      "Error: The file does not exist.\n"
     ]
    }
   ],
   "source": [
    "#3.How would you handle a case where the file doesn't exist while trying to open it for reading.\n",
    "\n",
    "try:\n",
    "    # Try to open the file in read mode\n",
    "    with open('non_existent_file.txt', 'r') as file:\n",
    "        # Read and print the file content\n",
    "        print(file.read())\n",
    "except FileNotFoundError:\n",
    "    # Handle the case where the file does not exist\n",
    "    print(\"Error: The file does not exist.\")\n"
   ]
  },
  {
   "cell_type": "code",
   "execution_count": 2,
   "id": "ab4a1a00-dee9-42b6-9ad5-f7c34464254c",
   "metadata": {},
   "outputs": [
    {
     "name": "stdout",
     "output_type": "stream",
     "text": [
      "'input.txt' did not exist and has been created with default content.\n",
      "Content successfully copied from 'input.txt' to 'output.txt'.\n"
     ]
    }
   ],
   "source": [
    "#4.Write a Python script that reads from one file and writes its content to another file.\n",
    "# Define the input and output file paths\n",
    "input_file = 'input.txt'  # File to read from\n",
    "output_file = 'output.txt'  # File to write to\n",
    "\n",
    "# Check if the input file exists and create it if it doesn't\n",
    "import os\n",
    "\n",
    "if not os.path.exists(input_file):\n",
    "    # Create the input file and write default content\n",
    "    with open(input_file, 'w') as infile:\n",
    "        infile.write(\"This is the default content of the input file.\\n\")\n",
    "    print(f\"'{input_file}' did not exist and has been created with default content.\")\n",
    "\n",
    "try:\n",
    "    # Open the input file in read mode\n",
    "    with open(input_file, 'r') as infile:\n",
    "        # Read the content of the input file\n",
    "        content = infile.read()\n",
    "        \n",
    "    # Open the output file in write mode\n",
    "    with open(output_file, 'w') as outfile:\n",
    "        # Write the content to the output file\n",
    "        outfile.write(content)\n",
    "    \n",
    "    print(f\"Content successfully copied from '{input_file}' to '{output_file}'.\")\n",
    "\n",
    "except Exception as e:\n",
    "    print(f\"An error occurred: {e}\")\n"
   ]
  },
  {
   "cell_type": "code",
   "execution_count": 3,
   "id": "d7bf9022-40f1-4b30-8005-33854d94a317",
   "metadata": {},
   "outputs": [
    {
     "name": "stdin",
     "output_type": "stream",
     "text": [
      "Enter the numerator:  10\n",
      "Enter the denominator:  0\n"
     ]
    },
    {
     "name": "stdout",
     "output_type": "stream",
     "text": [
      "Error: Division by zero is not allowed. Please provide a non-zero denominator.\n"
     ]
    }
   ],
   "source": [
    "#5.How would you catch and handle division by zero error in Python\n",
    "try:\n",
    "    # Prompt for the user for input\n",
    "    numerator = float(input(\"Enter the numerator: \"))\n",
    "    denominator = float(input(\"Enter the denominator: \"))\n",
    "    \n",
    "    # Perform the division\n",
    "    result = numerator / denominator\n",
    "    print(f\"The result is: {result}\")\n",
    "\n",
    "except ZeroDivisionError:\n",
    "    print(\"Error: Division by zero is not allowed. Please provide a non-zero denominator.\")\n",
    "\n",
    "except ValueError:\n",
    "    print(\"Error: Please enter valid numbers.\")\n"
   ]
  },
  {
   "cell_type": "code",
   "execution_count": 6,
   "id": "b3c30897-dbca-48e5-82da-e1237da64bf7",
   "metadata": {},
   "outputs": [
    {
     "name": "stdin",
     "output_type": "stream",
     "text": [
      "Enter the numerator:  10\n",
      "Enter the denominator:  0\n"
     ]
    },
    {
     "name": "stdout",
     "output_type": "stream",
     "text": [
      "Error: Division by zero is not allowed. The error has been logged. float division by zero\n"
     ]
    }
   ],
   "source": [
    "#6.Write a Python program that logs an error message to a log file when a division by zero exception occurs.\n",
    "import logging\n",
    "\n",
    "# Configure logging\n",
    "logging.basicConfig(\n",
    "    filename='error.log',  # Log file name\n",
    "    level=logging.ERROR,   # Log level\n",
    "    format='%(asctime)s - %(levelname)s - %(message)s'\n",
    ")\n",
    "\n",
    "try:\n",
    "    # User input\n",
    "    numerator = float(input(\"Enter the numerator: \"))\n",
    "    denominator = float(input(\"Enter the denominator: \"))\n",
    "\n",
    "    # Attempt division\n",
    "    result = numerator / denominator\n",
    "    print(f\"The result is: {result}\")\n",
    "\n",
    "except ZeroDivisionError as e:\n",
    "    # Log the error to a file\n",
    "    logging.error(\"Attempted division by zero.\")\n",
    "    print(\"Error: Division by zero is not allowed. The error has been logged.\",e)\n",
    "\n",
    "except ValueError as e:\n",
    "    # Handle invalid input\n",
    "    logging.error(\"Invalid input provided: %s\", e)\n",
    "    print(\"Error: Please enter valid numbers.\")\n"
   ]
  },
  {
   "cell_type": "code",
   "execution_count": 8,
   "id": "933e8bbb-f02c-4966-8d8e-bcb65f9ff7cc",
   "metadata": {},
   "outputs": [],
   "source": [
    "#7.How do you log information at different levels (INFO, ERROR, WARNING) in Python using the logging module.\n",
    "import logging\n",
    "\n",
    "# Configure the logging settings\n",
    "logging.basicConfig(\n",
    "    filename='app.log',  # Log file name\n",
    "    level=logging.DEBUG, # Set the minimum level of messages to capture\n",
    "    format='%(asctime)s - %(levelname)s - %(message)s'\n",
    ")\n",
    "\n",
    "# Log messages at different levels\n",
    "logging.debug(\"This is a DEBUG message - useful for diagnosing problems.\")\n",
    "logging.info(\"This is an INFO message - general information about the program's execution.\")\n",
    "logging.warning(\"This is a WARNING message - something unexpected but not critical.\")\n",
    "logging.error(\"This is an ERROR message - an issue that needs attention.\")\n",
    "logging.critical(\"This is a CRITICAL message - a serious error or system failure.\")\n"
   ]
  },
  {
   "cell_type": "code",
   "execution_count": 11,
   "id": "9ddb5d0f-3809-4763-81a6-a3b05e75dfac",
   "metadata": {},
   "outputs": [
    {
     "name": "stdin",
     "output_type": "stream",
     "text": [
      "Enter the name of the file to open:  Ayush\n"
     ]
    },
    {
     "name": "stdout",
     "output_type": "stream",
     "text": [
      "Error: Permission denied to open the file 'Ayush'. [Errno 13] Permission denied: 'Ayush'\n"
     ]
    }
   ],
   "source": [
    "#8.Write a program to handle a file opening error using exception handling.\n",
    "try:\n",
    "    # Prompt the user for the file name\n",
    "    file_name = input(\"Enter the name of the file to open: \")\n",
    "\n",
    "    # Attempt to open the file in read mode\n",
    "    with open(file_name, 'r') as file:\n",
    "        # Read and print the content of the file\n",
    "        content = file.read()\n",
    "        print(\"File content:\")\n",
    "        print(content)\n",
    "\n",
    "except FileNotFoundError as e:\n",
    "    # Handle the case where the file does not exist\n",
    "    print(f\"Error: The file '{file_name}' was not found.\",e)\n",
    "\n",
    "except PermissionError as e:\n",
    "    # Handle the case where the file cannot be accessed due to permissions\n",
    "    print(f\"Error: Permission denied to open the file '{file_name}'.\",e)\n",
    "\n",
    "except Exception as e:\n",
    "    # Handle any other exceptions\n",
    "    print(f\"An unexpected error occurred: {e}\")\n",
    "\n"
   ]
  },
  {
   "cell_type": "code",
   "execution_count": 14,
   "id": "cb5c86a1-e31b-41ac-a9c6-1cac096c1201",
   "metadata": {},
   "outputs": [
    {
     "name": "stdin",
     "output_type": "stream",
     "text": [
      "Enter the file name:  Ayush.txt\n"
     ]
    },
    {
     "name": "stdout",
     "output_type": "stream",
     "text": [
      "File content as a list:\n",
      "['Hello, Evaluator My Name is Ayush']\n"
     ]
    }
   ],
   "source": [
    "#9.How can you read a file line by line and store its content in a list in Python.\n",
    "try:\n",
    "    # Open the file in read mode\n",
    "    file_name = input(\"Enter the file name: \")\n",
    "    with open(file_name, 'r') as file:\n",
    "        # Read all lines and store them in a list\n",
    "        lines = file.readlines()\n",
    "    \n",
    "    # Strip newline characters from each line and store in a clean list\n",
    "    clean_lines = [line.strip() for line in lines]\n",
    "\n",
    "    # Print the resulting list\n",
    "    print(\"File content as a list:\")\n",
    "    print(clean_lines)\n",
    "\n",
    "except FileNotFoundError:\n",
    "    print(f\"Error: The file '{file_name}' does not exist.\")\n",
    "\n",
    "except Exception as e:\n",
    "    print(f\"An unexpected error occurred: {e}\")\n"
   ]
  },
  {
   "cell_type": "code",
   "execution_count": 15,
   "id": "397cf995-e8f0-4e02-ade0-c7153d86a3be",
   "metadata": {},
   "outputs": [
    {
     "name": "stdin",
     "output_type": "stream",
     "text": [
      "Enter the file name:  Ayush.txt\n",
      "Enter the data to append to the file:  This data I am appending \n"
     ]
    },
    {
     "name": "stdout",
     "output_type": "stream",
     "text": [
      "Data successfully appended to the file.\n"
     ]
    }
   ],
   "source": [
    "#10.How can you append data to an existing file in Python\n",
    "try:\n",
    "    # Prompt the user for the file name\n",
    "    file_name = input(\"Enter the file name: \")\n",
    "\n",
    "    # Open the file in append mode\n",
    "    with open(file_name, 'a') as file:\n",
    "        # Prompt the user for data to append\n",
    "        data_to_append = input(\"Enter the data to append to the file: \")\n",
    "\n",
    "        # Write the data to the file\n",
    "        file.write(data_to_append + '\\n')\n",
    "        print(\"Data successfully appended to the file.\")\n",
    "\n",
    "except FileNotFoundError:\n",
    "    print(f\"Error: The file '{file_name}' does not exist.\")\n",
    "\n",
    "except Exception as e:\n",
    "    print(f\"An unexpected error occurred: {e}\")\n"
   ]
  },
  {
   "cell_type": "code",
   "execution_count": 17,
   "id": "535807da-910a-4b5e-b327-d5ebfebc801d",
   "metadata": {},
   "outputs": [
    {
     "name": "stdin",
     "output_type": "stream",
     "text": [
      "Enter the key to access:  Country\n"
     ]
    },
    {
     "name": "stdout",
     "output_type": "stream",
     "text": [
      "Error: The key 'Country' does not exist in the dictionary. 'Country'\n"
     ]
    }
   ],
   "source": [
    "#11.Write a Python program that uses a try-except block to handle an error when attempting to access a dictionary key that doesn't exist\n",
    "try:\n",
    "    # Define a sample dictionary\n",
    "    sample_dict = {\n",
    "        \"name\": \"Alice\",\n",
    "        \"age\": 25,\n",
    "        \"city\": \"New York\"\n",
    "    }\n",
    "\n",
    "    # Prompt the user for the key to access\n",
    "    key_to_access = input(\"Enter the key to access: \")\n",
    "\n",
    "    # Attempt to access the dictionary key\n",
    "    value = sample_dict[key_to_access]\n",
    "    print(f\"The value for '{key_to_access}' is: {value}\")\n",
    "\n",
    "except KeyError as e:\n",
    "    # Handle the case where the key does not exist\n",
    "    print(f\"Error: The key '{key_to_access}' does not exist in the dictionary.\",e)\n"
   ]
  },
  {
   "cell_type": "code",
   "execution_count": 20,
   "id": "7d12e5b5-28b9-46cf-a133-923b50287150",
   "metadata": {},
   "outputs": [
    {
     "name": "stdin",
     "output_type": "stream",
     "text": [
      "Enter the numerator:  10\n",
      "Enter the denominator:  Ayush\n"
     ]
    },
    {
     "name": "stdout",
     "output_type": "stream",
     "text": [
      "Error: Please enter valid integers. invalid literal for int() with base 10: 'Ayush'\n"
     ]
    }
   ],
   "source": [
    "#12.Write a program that demonstrates using multiple except blocks to handle different types of exceptions\n",
    "try:\n",
    "    # Prompt the user for inputs\n",
    "    numerator = int(input(\"Enter the numerator: \"))\n",
    "    denominator = int(input(\"Enter the denominator: \"))\n",
    "\n",
    "    # Perform division\n",
    "    result = numerator / denominator\n",
    "    print(f\"The result of division is: {result}\")\n",
    "    print(f\"The value for '{key_to_access}' is: {value}\")\n",
    "\n",
    "except ZeroDivisionError as e :\n",
    "    # Handle division by zero\n",
    "    print(\"Error: Division by zero is not allowed.\",e)\n",
    "\n",
    "except ValueError as e :\n",
    "    # Handle invalid input for integer conversion\n",
    "    print(\"Error: Please enter valid integers.\",e)\n",
    "\n",
    "except KeyError as e:\n",
    "    # Handle non-existent dictionary key access\n",
    "    print(\"Error: The key does not exist in the dictionary.\",e)\n",
    "\n",
    "except Exception as e:\n",
    "    # Catch any other unexpected exceptions\n",
    "    print(f\"An unexpected error occurred: {e}\")\n"
   ]
  },
  {
   "cell_type": "code",
   "execution_count": 21,
   "id": "c2eabf1d-79e2-4532-bbf5-7a45523efe6b",
   "metadata": {},
   "outputs": [
    {
     "name": "stdin",
     "output_type": "stream",
     "text": [
      "Enter the file name:  Pw skills.txt\n"
     ]
    },
    {
     "name": "stdout",
     "output_type": "stream",
     "text": [
      "Error: The file 'Pw skills.txt' does not exist.\n"
     ]
    }
   ],
   "source": [
    "#13.How would you check if a file exists before attempting to read it in Python\n",
    "import os\n",
    "\n",
    "file_name = input(\"Enter the file name: \")\n",
    "\n",
    "# Check if the file exists\n",
    "if os.path.exists(file_name):\n",
    "    with open(file_name, 'r') as file:\n",
    "        content = file.read()\n",
    "    print(\"File content:\")\n",
    "    print(content)\n",
    "else:\n",
    "    print(f\"Error: The file '{file_name}' does not exist.\")\n"
   ]
  },
  {
   "cell_type": "code",
   "execution_count": 23,
   "id": "97688193-ca3b-43ba-920b-937cbdbe990d",
   "metadata": {},
   "outputs": [
    {
     "name": "stderr",
     "output_type": "stream",
     "text": [
      "2024-12-04 09:24:57,805 - ERROR - Error: Attempted division by zero.\n"
     ]
    }
   ],
   "source": [
    "#14.Write a program that uses the logging module to log both informational and error messages.\n",
    "import logging\n",
    "\n",
    "# Configure logging to display on the console as well as in a file\n",
    "logging.basicConfig(level=logging.DEBUG, \n",
    "                    format='%(asctime)s - %(levelname)s - %(message)s', \n",
    "                    filename='app.log', \n",
    "                    filemode='w')\n",
    "\n",
    "# Adding a console handler to log to the console as well\n",
    "console_handler = logging.StreamHandler()\n",
    "console_handler.setLevel(logging.DEBUG)\n",
    "formatter = logging.Formatter('%(asctime)s - %(levelname)s - %(message)s')\n",
    "console_handler.setFormatter(formatter)\n",
    "\n",
    "# Add the console handler to the logger\n",
    "logging.getLogger().addHandler(console_handler)\n",
    "\n",
    "# Log an informational message\n",
    "logging.info(\"This is an informational message.\")\n",
    "\n",
    "try:\n",
    "    # Simulating a division by zero error\n",
    "    numerator = 10\n",
    "    denominator = 0\n",
    "    result = numerator / denominator\n",
    "\n",
    "except ZeroDivisionError:\n",
    "    # Log an error message when an exception occurs\n",
    "    logging.error(\"Error: Attempted division by zero.\")\n",
    "\n",
    "# Log another informational message\n",
    "logging.info(\"Program completed successfully.\")\n",
    "\n"
   ]
  },
  {
   "cell_type": "code",
   "execution_count": 24,
   "id": "8b4786bd-47d6-48b6-a198-321a4ea27f13",
   "metadata": {},
   "outputs": [
    {
     "name": "stdin",
     "output_type": "stream",
     "text": [
      "Enter the file name:  Ayush.txt\n"
     ]
    },
    {
     "name": "stdout",
     "output_type": "stream",
     "text": [
      "Content of the file 'Ayush.txt':\n",
      "\n",
      "Hello, Evaluator My Name is AyushThis data I am appending \n",
      "\n"
     ]
    }
   ],
   "source": [
    "#15.Write a Python program that prints the content of a file and handles the case when the file is empty\n",
    "def read_file(file_name):\n",
    "    try:\n",
    "        # Open the file in read mode\n",
    "        with open(file_name, 'r') as file:\n",
    "            content = file.read()\n",
    "            \n",
    "            # Check if the file is empty\n",
    "            if not content:\n",
    "                print(f\"The file '{file_name}' is empty.\")\n",
    "            else:\n",
    "                print(f\"Content of the file '{file_name}':\\n\")\n",
    "                print(content)\n",
    "\n",
    "    except FileNotFoundError:\n",
    "        # Handle the case where the file is not found\n",
    "        print(f\"Error: The file '{file_name}' does not exist.\")\n",
    "    except Exception as e:\n",
    "        # Handle other potential errors\n",
    "        print(f\"An error occurred: {e}\")\n",
    "\n",
    "# Input file name\n",
    "file_name = input(\"Enter the file name: \")\n",
    "\n",
    "# Call the function to read the file\n",
    "read_file(file_name)\n"
   ]
  },
  {
   "cell_type": "code",
   "execution_count": 26,
   "id": "cadbb48e-fed2-417a-a519-385701e90117",
   "metadata": {},
   "outputs": [
    {
     "name": "stdout",
     "output_type": "stream",
     "text": [
      "Both tasks are completed.\n",
      "Total program execution time: 0.130357027053833 seconds\n"
     ]
    }
   ],
   "source": [
    "#16.Demonstrate how to use memory profiling to check the memory usage of a small program\n",
    "import multiprocessing\n",
    "import time\n",
    "\n",
    "# Function to simulate a task\n",
    "def print_numbers(task_name):\n",
    "    for i in range(5):\n",
    "        print(f\"{task_name} - {i}\")\n",
    "        time.sleep(1)\n",
    "\n",
    "if __name__ == \"__main__\":\n",
    "    # Record the start time\n",
    "    start_time = time.time()\n",
    "\n",
    "    # Create two processes\n",
    "    process1 = multiprocessing.Process(target=print_numbers, args=(\"Task 1\",))\n",
    "    process2 = multiprocessing.Process(target=print_numbers, args=(\"Task 2\",))\n",
    "\n",
    "    # Start the processes\n",
    "    process1.start()\n",
    "    process2.start()\n",
    "\n",
    "    # Wait for both processes to finish\n",
    "    process1.join()\n",
    "    process2.join()\n",
    "\n",
    "    # Record the end time\n",
    "    end_time = time.time()\n",
    "\n",
    "    # Print the total execution time\n",
    "    print(f\"Both tasks are completed.\")\n",
    "    print(f\"Total program execution time: {end_time - start_time} seconds\")\n",
    "\n"
   ]
  },
  {
   "cell_type": "code",
   "execution_count": 28,
   "id": "7c2add1a-96f6-4fb9-ae32-9aa73136ae2d",
   "metadata": {},
   "outputs": [
    {
     "name": "stdout",
     "output_type": "stream",
     "text": [
      "Numbers have been written to 'numbers.txt'.\n",
      "\n",
      "Content of 'numbers.txt':\n",
      "10\n",
      "20\n",
      "30\n",
      "40\n",
      "50\n",
      "60\n",
      "70\n",
      "80\n",
      "90\n",
      "100\n"
     ]
    }
   ],
   "source": [
    "#17.Write a Python program to create and write a list of numbers to a file, one number per line.\n",
    "# List of numbers\n",
    "numbers = [10, 20, 30, 40, 50, 60, 70, 80, 90, 100]\n",
    "\n",
    "# Open a file in write mode ('w')\n",
    "with open('numbers.txt', 'w') as file:\n",
    "    # Iterate over the list of numbers and write each number to a new line\n",
    "    for number in numbers:\n",
    "        file.write(f\"{number}\\n\")\n",
    "\n",
    "print(\"Numbers have been written to 'numbers.txt'.\")\n",
    "\n",
    "# Open the file in read mode ('r') to display its content\n",
    "with open('numbers.txt', 'r') as file:\n",
    "    content = file.readlines()\n",
    "\n",
    "# Print the content of the file\n",
    "print(\"\\nContent of 'numbers.txt':\")\n",
    "for line in content:\n",
    "    print(line.strip())  # Remove the extra newline for a clean output\n",
    "\n",
    "\n"
   ]
  },
  {
   "cell_type": "code",
   "execution_count": 29,
   "id": "e3048e3b-6ccb-4520-9e40-f1827198353c",
   "metadata": {},
   "outputs": [
    {
     "name": "stderr",
     "output_type": "stream",
     "text": [
      "2024-12-04 09:42:36,172 - DEBUG - This is a debug message\n",
      "2024-12-04 09:42:36,173 - INFO - This is an info message\n",
      "2024-12-04 09:42:36,174 - WARNING - This is a warning message\n",
      "2024-12-04 09:42:36,174 - ERROR - This is an error message\n",
      "2024-12-04 09:42:36,175 - CRITICAL - This is a critical message\n"
     ]
    },
    {
     "name": "stdout",
     "output_type": "stream",
     "text": [
      "Logging setup complete. Check the 'my_log.log' file.\n"
     ]
    }
   ],
   "source": [
    "#18.How would you implement a basic logging setup that logs to a file with rotation after 1MB.\n",
    "import logging\n",
    "from logging.handlers import RotatingFileHandler\n",
    "\n",
    "# Set up the logger\n",
    "logger = logging.getLogger('my_logger')\n",
    "logger.setLevel(logging.DEBUG)  # Log messages of level DEBUG and above\n",
    "\n",
    "# Create a RotatingFileHandler that logs to 'my_log.log' and rotates after 1MB\n",
    "handler = RotatingFileHandler('my_log.log', maxBytes=1e6, backupCount=3)\n",
    "handler.setLevel(logging.DEBUG)\n",
    "\n",
    "# Create a log format\n",
    "formatter = logging.Formatter('%(asctime)s - %(levelname)s - %(message)s')\n",
    "handler.setFormatter(formatter)\n",
    "\n",
    "# Add the handler to the logger\n",
    "logger.addHandler(handler)\n",
    "\n",
    "# Sample log messages\n",
    "logger.debug('This is a debug message')\n",
    "logger.info('This is an info message')\n",
    "logger.warning('This is a warning message')\n",
    "logger.error('This is an error message')\n",
    "logger.critical('This is a critical message')\n",
    "\n",
    "print(\"Logging setup complete. Check the 'my_log.log' file.\")\n"
   ]
  },
  {
   "cell_type": "code",
   "execution_count": 30,
   "id": "58529b01-209e-4ee5-8586-c32aaf82c313",
   "metadata": {},
   "outputs": [
    {
     "name": "stdout",
     "output_type": "stream",
     "text": [
      "IndexError: list index out of range\n",
      "KeyError: 'gender'\n"
     ]
    }
   ],
   "source": [
    "#19.Write a program that handles both IndexError and KeyError using a try-except block.\n",
    "def handle_errors():\n",
    "    # Example of an IndexError\n",
    "    try:\n",
    "        my_list = [1, 2, 3]\n",
    "        print(my_list[5])  # This will raise an IndexError\n",
    "    except IndexError as e:\n",
    "        print(f\"IndexError: {e}\")\n",
    "\n",
    "    # Example of a KeyError\n",
    "    try:\n",
    "        my_dict = {\"name\": \"Alice\", \"age\": 25}\n",
    "        print(my_dict[\"gender\"])  # This will raise a KeyError\n",
    "    except KeyError as e:\n",
    "        print(f\"KeyError: {e}\")\n",
    "\n",
    "if __name__ == \"__main__\":\n",
    "    handle_errors()\n"
   ]
  },
  {
   "cell_type": "code",
   "execution_count": 32,
   "id": "7946f689-b9b6-411f-a275-e2533a47b3cb",
   "metadata": {},
   "outputs": [
    {
     "name": "stdout",
     "output_type": "stream",
     "text": [
      "Hello, Evaluator My Name is AyushThis data I am appending \n",
      "\n"
     ]
    }
   ],
   "source": [
    "#20.How would you open a file and read its contents using a context manager in Python.\n",
    "# Open and read a file using a context manager\n",
    "file_path = 'Ayush.txt'\n",
    "\n",
    "with open(file_path, 'r') as file:\n",
    "    # Read the contents of the file\n",
    "    content = file.read()\n",
    "\n",
    "# Print the file content after closing it\n",
    "print(content)\n"
   ]
  },
  {
   "cell_type": "code",
   "execution_count": 35,
   "id": "e347aeca-00b8-431d-bf9f-8170be88a112",
   "metadata": {},
   "outputs": [
    {
     "name": "stdin",
     "output_type": "stream",
     "text": [
      "Enter the file name (with extension):  Ayush.txt\n",
      "Enter the word to search for:  Evaluator\n"
     ]
    },
    {
     "name": "stdout",
     "output_type": "stream",
     "text": [
      "The word 'Evaluator' appears 1 times in the file.\n"
     ]
    }
   ],
   "source": [
    "#21.Write a Python program that reads a file and prints the number of occurrences of a specific word.\n",
    "def count_word_occurrences(file_path, word_to_find):\n",
    "    try:\n",
    "        with open(file_path, 'r') as file:\n",
    "            # Read the contents of the file\n",
    "            content = file.read()\n",
    "            \n",
    "            # Count the occurrences of the word (case-insensitive)\n",
    "            word_count = content.lower().split().count(word_to_find.lower())\n",
    "        \n",
    "        print(f\"The word '{word_to_find}' appears {word_count} times in the file.\")\n",
    "    \n",
    "    except FileNotFoundError:\n",
    "        print(f\"The file at {file_path} does not exist.\")\n",
    "    except Exception as e:\n",
    "        print(f\"An error occurred: {e}\")\n",
    "\n",
    "if __name__ == \"__main__\":\n",
    "    # Input file name and word to search for from the user\n",
    "    file_path = input(\"Enter the file name (with extension): \")  # User inputs the file name\n",
    "    word_to_find = input(\"Enter the word to search for: \")       # User inputs the word to search for\n",
    "    \n",
    "    count_word_occurrences(file_path, word_to_find)\n"
   ]
  },
  {
   "cell_type": "code",
   "execution_count": 36,
   "id": "b6edc9ab-019d-4996-b730-bb3df7602f79",
   "metadata": {},
   "outputs": [
    {
     "name": "stdin",
     "output_type": "stream",
     "text": [
      "Enter the file name (with extension):  Ayush.txt\n"
     ]
    },
    {
     "name": "stdout",
     "output_type": "stream",
     "text": [
      "Hello, Evaluator My Name is AyushThis data I am appending \n",
      "\n"
     ]
    }
   ],
   "source": [
    "#22.How can you check if a file is empty before attempting to reimport os\n",
    "\n",
    "import os\n",
    "\n",
    "def read_file_if_not_empty(file_path):\n",
    "    # Check if the file exists and its size\n",
    "    if os.path.exists(file_path) and os.path.getsize(file_path) > 0:\n",
    "        with open(file_path, 'r') as file:\n",
    "            content = file.read()\n",
    "            print(content)\n",
    "    elif os.path.exists(file_path) and os.path.getsize(file_path) == 0:\n",
    "        print(f\"The file '{file_path}' is empty.\")\n",
    "    else:\n",
    "        print(f\"The file '{file_path}' does not exist.\")\n",
    "\n",
    "if __name__ == \"__main__\":\n",
    "    # Input file name from the user\n",
    "    file_path = input(\"Enter the file name (with extension): \")  # User inputs the file name\n",
    "    \n",
    "    read_file_if_not_empty(file_path)\n"
   ]
  },
  {
   "cell_type": "code",
   "execution_count": 38,
   "id": "c39693c8-d861-453e-8dba-69d264acb127",
   "metadata": {},
   "outputs": [
    {
     "name": "stdin",
     "output_type": "stream",
     "text": [
      "Enter the file name (with extension):  example.txt\n"
     ]
    },
    {
     "name": "stderr",
     "output_type": "stream",
     "text": [
      "2024-12-04 09:50:46,789 - ERROR - File not found: example.txt. Error: [Errno 2] No such file or directory: 'example.txt'\n"
     ]
    },
    {
     "name": "stdout",
     "output_type": "stream",
     "text": [
      "Error: The file 'example.txt' does not exist.\n"
     ]
    }
   ],
   "source": [
    "#23.Write a Python program that writes to a log file when an error occurs during file handling\n",
    "import logging\n",
    "\n",
    "# Set up logging configuration\n",
    "logging.basicConfig(filename='file_handling_errors.log', \n",
    "                    level=logging.ERROR, \n",
    "                    format='%(asctime)s - %(levelname)s - %(message)s')\n",
    "\n",
    "def read_file(file_path):\n",
    "    try:\n",
    "        # Attempt to open the file\n",
    "        with open(file_path, 'r') as file:\n",
    "            content = file.read()\n",
    "            print(content)\n",
    "    except FileNotFoundError as e:\n",
    "        # Log the error if the file is not found\n",
    "        logging.error(f\"File not found: {file_path}. Error: {e}\")\n",
    "        print(f\"Error: The file '{file_path}' does not exist.\")\n",
    "    except PermissionError as e:\n",
    "        # Log the error if there are permission issues\n",
    "        logging.error(f\"Permission denied when accessing file: {file_path}. Error: {e}\")\n",
    "        print(f\"Error: Permission denied when accessing '{file_path}'.\")\n",
    "    except Exception as e:\n",
    "        # Log any other general exceptions\n",
    "        logging.error(f\"An error occurred while handling the file '{file_path}'. Error: {e}\")\n",
    "        print(f\"An error occurred: {e}\")\n",
    "\n",
    "if __name__ == \"__main__\":\n",
    "    # Get file name input from the user\n",
    "    file_path = input(\"Enter the file name (with extension): \")\n",
    "    \n",
    "    read_file(file_path)\n",
    "\n"
   ]
  },
  {
   "cell_type": "code",
   "execution_count": null,
   "id": "a1aa367f-c4fd-4fee-ad8d-c95d65f1c3ea",
   "metadata": {},
   "outputs": [],
   "source": []
  }
 ],
 "metadata": {
  "kernelspec": {
   "display_name": "Python 3 (ipykernel)",
   "language": "python",
   "name": "python3"
  },
  "language_info": {
   "codemirror_mode": {
    "name": "ipython",
    "version": 3
   },
   "file_extension": ".py",
   "mimetype": "text/x-python",
   "name": "python",
   "nbconvert_exporter": "python",
   "pygments_lexer": "ipython3",
   "version": "3.13.0"
  }
 },
 "nbformat": 4,
 "nbformat_minor": 5
}
